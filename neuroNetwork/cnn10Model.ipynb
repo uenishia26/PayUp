{
 "cells": [
  {
   "cell_type": "code",
   "execution_count": 2,
   "id": "622b8a82-00fa-4f07-84c5-b90823e53fbc",
   "metadata": {},
   "outputs": [
    {
     "name": "stderr",
     "output_type": "stream",
     "text": [
      "2024-08-06 17:56:41.340248: I tensorflow/core/platform/cpu_feature_guard.cc:210] This TensorFlow binary is optimized to use available CPU instructions in performance-critical operations.\n",
      "To enable the following instructions: AVX2 FMA, in other operations, rebuild TensorFlow with the appropriate compiler flags.\n"
     ]
    }
   ],
   "source": [
    "import numpy as np\n",
    "import tensorflow as tf\n",
    "import matplotlib.pyplot as plt\n",
    "from tensorflow.keras import datasets, layers, models\n",
    "from tensorflow.keras.models import Sequential\n",
    "from tensorflow.keras.layers import Activation, Dense, Input"
   ]
  },
  {
   "cell_type": "code",
   "execution_count": 26,
   "id": "cd811bdb-f92e-4ad8-b9e9-7c74c7c9fb4a",
   "metadata": {},
   "outputs": [],
   "source": [
    "(x_train, y_train), (x_test, y_test) = datasets.cifar10.load_data()\n"
   ]
  },
  {
   "cell_type": "code",
   "execution_count": 27,
   "id": "5c34ad28-9a90-4da9-bfb5-2805016af847",
   "metadata": {},
   "outputs": [],
   "source": [
    "#Dimensions of x_train: (50000,32,32,3)\n",
    "#Dimensions of x_test: (10000,32,32,3)\n",
    "#Dimensions of y_train: (50000,)\n",
    "#Dimensions of y_test: (10000,)\n",
    "#Y labels are labeled through [0,9] [airplane, automobile, bird, cat, deer, dog, frog, horse, ship, truck]\n",
    "y_train, y_test = y_train.reshape(-1,), y_test.reshape(-1,)\n",
    "\n",
    "#Normalizing Data Divide by 255\n",
    "x_train = x_train/255.0\n",
    "x_test = x_test/255.0"
   ]
  },
  {
   "cell_type": "code",
   "execution_count": 5,
   "id": "76e941a4-4d2a-4bd6-b843-31c7818ff837",
   "metadata": {
    "scrolled": true
   },
   "outputs": [
    {
     "name": "stderr",
     "output_type": "stream",
     "text": [
      "/Users/anamuuenishi/Downloads/Anamu/muData/lib/python3.12/site-packages/keras/src/layers/reshaping/flatten.py:37: UserWarning: Do not pass an `input_shape`/`input_dim` argument to a layer. When using Sequential models, prefer using an `Input(shape)` object as the first layer in the model instead.\n",
      "  super().__init__(**kwargs)\n"
     ]
    },
    {
     "name": "stdout",
     "output_type": "stream",
     "text": [
      "[[0. 0. 0. ... 0. 0. 0.]\n",
      " [0. 0. 0. ... 0. 1. 0.]\n",
      " [0. 0. 0. ... 0. 1. 0.]\n",
      " ...\n",
      " [0. 0. 0. ... 0. 0. 0.]\n",
      " [0. 1. 0. ... 0. 0. 0.]\n",
      " [0. 0. 0. ... 1. 0. 0.]]\n",
      "Epoch 1/5\n",
      "\u001b[1m1563/1563\u001b[0m \u001b[32m━━━━━━━━━━━━━━━━━━━━\u001b[0m\u001b[37m\u001b[0m \u001b[1m52s\u001b[0m 33ms/step - accuracy: 0.3058 - loss: 1.9330\n",
      "Epoch 2/5\n",
      "\u001b[1m1563/1563\u001b[0m \u001b[32m━━━━━━━━━━━━━━━━━━━━\u001b[0m\u001b[37m\u001b[0m \u001b[1m51s\u001b[0m 33ms/step - accuracy: 0.4241 - loss: 1.6413\n",
      "Epoch 3/5\n",
      "\u001b[1m1563/1563\u001b[0m \u001b[32m━━━━━━━━━━━━━━━━━━━━\u001b[0m\u001b[37m\u001b[0m \u001b[1m50s\u001b[0m 32ms/step - accuracy: 0.4535 - loss: 1.5496\n",
      "Epoch 4/5\n",
      "\u001b[1m1563/1563\u001b[0m \u001b[32m━━━━━━━━━━━━━━━━━━━━\u001b[0m\u001b[37m\u001b[0m \u001b[1m49s\u001b[0m 32ms/step - accuracy: 0.4815 - loss: 1.4805\n",
      "Epoch 5/5\n",
      "\u001b[1m1563/1563\u001b[0m \u001b[32m━━━━━━━━━━━━━━━━━━━━\u001b[0m\u001b[37m\u001b[0m \u001b[1m50s\u001b[0m 32ms/step - accuracy: 0.4951 - loss: 1.4356\n"
     ]
    },
    {
     "data": {
      "text/plain": [
       "<keras.src.callbacks.history.History at 0x13ff7f890>"
      ]
     },
     "execution_count": 5,
     "metadata": {},
     "output_type": "execute_result"
    }
   ],
   "source": [
    "#Performance of a simple ann Network \n",
    "ann = models.Sequential([\n",
    "    layers.Flatten(input_shape=(32,32,3)),\n",
    "    layers.Dense(3000, activation='relu'), \n",
    "    layers.Dense(1000, activation='relu'), \n",
    "    layers.Dense(10, activation='sigmoid') #Returns value between 0 and 1\n",
    "])\n",
    "\n",
    "#Need to hot encode the labels as the final neural network output has 10 layers and thus we need each index to have 10 --\n",
    "#Positions with the correct label repersetned as 1 and the rest repersented as 0 \n",
    "y_train = tf.keras.utils.to_categorical(y_train, 10)\n",
    "y_test = tf.keras.utils.to_categorical(y_test, 10)\n",
    "print(y_test)\n",
    "\n",
    "ann.compile(optimizer='SGD', loss='categorical_crossentropy', metrics=['accuracy'])\n",
    "ann.fit(x_train, y_train, epochs=5) \n",
    "#Result \n",
    "#Epoch 5/5\n",
    "#1563/1563 ━━━━━━━━━━━━━━━━━━━━ 51s 32ms/step - accuracy: 0.4943 - loss: 1.4337"
   ]
  },
  {
   "cell_type": "code",
   "execution_count": 19,
   "id": "ea1ff094-9f73-4d59-8ccb-121b4f6dc397",
   "metadata": {},
   "outputs": [
    {
     "name": "stdout",
     "output_type": "stream",
     "text": [
      "\u001b[1m313/313\u001b[0m \u001b[32m━━━━━━━━━━━━━━━━━━━━\u001b[0m\u001b[37m\u001b[0m \u001b[1m2s\u001b[0m 6ms/step\n",
      "              precision    recall  f1-score   support\n",
      "\n",
      "           0       0.48      0.53      0.50      1000\n",
      "           1       0.73      0.37      0.49      1000\n",
      "           2       0.41      0.27      0.33      1000\n",
      "           3       0.29      0.45      0.35      1000\n",
      "           4       0.51      0.30      0.38      1000\n",
      "           5       0.37      0.38      0.37      1000\n",
      "           6       0.47      0.63      0.53      1000\n",
      "           7       0.72      0.37      0.49      1000\n",
      "           8       0.42      0.81      0.55      1000\n",
      "           9       0.58      0.45      0.51      1000\n",
      "\n",
      "    accuracy                           0.45     10000\n",
      "   macro avg       0.50      0.45      0.45     10000\n",
      "weighted avg       0.50      0.45      0.45     10000\n",
      "\n"
     ]
    }
   ],
   "source": [
    "from sklearn.metrics import classification_report\n",
    "\n",
    "y_predict = ann.predict(x_test)\n",
    "y_predict = [np.argmax(element) for element in y_predict]\n",
    "print(classification_report(y_test, y_predict))\n",
    "#As you can tell, ann is not the best network. With accuracy f1_score of 0.45 \n",
    "#The indexs is equivalent to the index of the image in the list of images \n",
    "\n"
   ]
  },
  {
   "cell_type": "code",
   "execution_count": 28,
   "id": "8af122a8-b42c-4ac0-a03f-452763319b48",
   "metadata": {},
   "outputs": [
    {
     "name": "stdout",
     "output_type": "stream",
     "text": [
      "Epoch 1/10\n",
      "\u001b[1m1563/1563\u001b[0m \u001b[32m━━━━━━━━━━━━━━━━━━━━\u001b[0m\u001b[37m\u001b[0m \u001b[1m35s\u001b[0m 22ms/step - accuracy: 0.3823 - loss: 1.6871\n",
      "Epoch 2/10\n",
      "\u001b[1m1563/1563\u001b[0m \u001b[32m━━━━━━━━━━━━━━━━━━━━\u001b[0m\u001b[37m\u001b[0m \u001b[1m35s\u001b[0m 22ms/step - accuracy: 0.6045 - loss: 1.1353\n",
      "Epoch 3/10\n",
      "\u001b[1m1563/1563\u001b[0m \u001b[32m━━━━━━━━━━━━━━━━━━━━\u001b[0m\u001b[37m\u001b[0m \u001b[1m33s\u001b[0m 21ms/step - accuracy: 0.6545 - loss: 0.9941\n",
      "Epoch 4/10\n",
      "\u001b[1m1563/1563\u001b[0m \u001b[32m━━━━━━━━━━━━━━━━━━━━\u001b[0m\u001b[37m\u001b[0m \u001b[1m34s\u001b[0m 22ms/step - accuracy: 0.6807 - loss: 0.9104\n",
      "Epoch 5/10\n",
      "\u001b[1m1563/1563\u001b[0m \u001b[32m━━━━━━━━━━━━━━━━━━━━\u001b[0m\u001b[37m\u001b[0m \u001b[1m36s\u001b[0m 23ms/step - accuracy: 0.7145 - loss: 0.8272\n",
      "Epoch 6/10\n",
      "\u001b[1m1563/1563\u001b[0m \u001b[32m━━━━━━━━━━━━━━━━━━━━\u001b[0m\u001b[37m\u001b[0m \u001b[1m54s\u001b[0m 35ms/step - accuracy: 0.7296 - loss: 0.7812\n",
      "Epoch 7/10\n",
      "\u001b[1m1563/1563\u001b[0m \u001b[32m━━━━━━━━━━━━━━━━━━━━\u001b[0m\u001b[37m\u001b[0m \u001b[1m36s\u001b[0m 23ms/step - accuracy: 0.7467 - loss: 0.7287\n",
      "Epoch 8/10\n",
      "\u001b[1m1563/1563\u001b[0m \u001b[32m━━━━━━━━━━━━━━━━━━━━\u001b[0m\u001b[37m\u001b[0m \u001b[1m33s\u001b[0m 21ms/step - accuracy: 0.7644 - loss: 0.6824\n",
      "Epoch 9/10\n",
      "\u001b[1m1563/1563\u001b[0m \u001b[32m━━━━━━━━━━━━━━━━━━━━\u001b[0m\u001b[37m\u001b[0m \u001b[1m34s\u001b[0m 22ms/step - accuracy: 0.7799 - loss: 0.6319\n",
      "Epoch 10/10\n",
      "\u001b[1m1563/1563\u001b[0m \u001b[32m━━━━━━━━━━━━━━━━━━━━\u001b[0m\u001b[37m\u001b[0m \u001b[1m34s\u001b[0m 21ms/step - accuracy: 0.7903 - loss: 0.6075\n"
     ]
    },
    {
     "data": {
      "text/plain": [
       "<keras.src.callbacks.history.History at 0x1447298b0>"
      ]
     },
     "execution_count": 28,
     "metadata": {},
     "output_type": "execute_result"
    }
   ],
   "source": [
    "#Performing a CNN + ANN \n",
    "cnn = models.Sequential([\n",
    "    #cnn \n",
    "    layers.Conv2D(filters=32, kernel_size=(3,3), activation='relu', input_shape=(32,32,3)), #Detecting features + break Linearity / kernel=filterSize\n",
    "    layers.MaxPooling2D((2,2)),  #Window size of 2,2 (Takes the Max)\n",
    "    \n",
    "    layers.Conv2D(filters=64, kernel_size=(3,3), activation='relu'), \n",
    "    layers.MaxPooling2D((2,2)),\n",
    "\n",
    "    #ann\n",
    "    layers.Flatten(),\n",
    "    layers.Dense(64, activation='relu'), \n",
    "    layers.Dense(10, activation='softmax') #Returns value between 0 and 1\n",
    "])\n",
    "\n",
    "cnn.compile(optimizer='adam', loss='sparse_categorical_crossentropy', metrics=['accuracy'])\n",
    "cnn.fit(x_train, y_train, epochs=10) #50,000 images to train \n",
    "\"\"\"re-run the 3rd cell and don't run the ann network after. This is because this particular loss function expects \n",
    "a non hot encded y value. The ANN model converts y dataset to hot encoded, thus will cause errors if run \n",
    "\"\"\"\n",
    "\n"
   ]
  },
  {
   "cell_type": "code",
   "execution_count": 33,
   "id": "dcbf3b8f-9c22-47ad-9b8b-d281e10df838",
   "metadata": {},
   "outputs": [
    {
     "name": "stdout",
     "output_type": "stream",
     "text": [
      "\u001b[1m313/313\u001b[0m \u001b[32m━━━━━━━━━━━━━━━━━━━━\u001b[0m\u001b[37m\u001b[0m \u001b[1m1s\u001b[0m 4ms/step\n",
      "              precision    recall  f1-score   support\n",
      "\n",
      "           0       0.65      0.80      0.72      1000\n",
      "           1       0.87      0.76      0.81      1000\n",
      "           2       0.59      0.56      0.57      1000\n",
      "           3       0.52      0.46      0.49      1000\n",
      "           4       0.60      0.70      0.65      1000\n",
      "           5       0.63      0.60      0.61      1000\n",
      "           6       0.77      0.76      0.76      1000\n",
      "           7       0.78      0.72      0.75      1000\n",
      "           8       0.81      0.79      0.80      1000\n",
      "           9       0.75      0.81      0.78      1000\n",
      "\n",
      "    accuracy                           0.70     10000\n",
      "   macro avg       0.70      0.70      0.69     10000\n",
      "weighted avg       0.70      0.70      0.69     10000\n",
      "\n"
     ]
    }
   ],
   "source": [
    "y_predict = cnn.predict(x_test)\n",
    "y_predict = [np.argmax(element) for element in y_predict]\n",
    "\n",
    "print(classification_report(y_test, y_predict))\n",
    "#You can see a substantial improvmenet with the CNN Network // F1_accuracy of 0.7 "
   ]
  },
  {
   "cell_type": "code",
   "execution_count": null,
   "id": "91439c06-b965-43b7-b373-3d1fddf4d867",
   "metadata": {},
   "outputs": [],
   "source": []
  }
 ],
 "metadata": {
  "kernelspec": {
   "display_name": "Python (muDataENV)",
   "language": "python",
   "name": "mudata"
  },
  "language_info": {
   "codemirror_mode": {
    "name": "ipython",
    "version": 3
   },
   "file_extension": ".py",
   "mimetype": "text/x-python",
   "name": "python",
   "nbconvert_exporter": "python",
   "pygments_lexer": "ipython3",
   "version": "3.12.3"
  }
 },
 "nbformat": 4,
 "nbformat_minor": 5
}
